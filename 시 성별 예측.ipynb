{
 "cells": [
  {
   "cell_type": "code",
   "execution_count": 1,
   "metadata": {
    "scrolled": true
   },
   "outputs": [],
   "source": [
    "# -*- encoding:utf8 -*-\n",
    "import pandas as pd\n",
    "import numpy as np\n",
    "import konlpy\n",
    "import sys\n",
    "if sys.version_info <= (2,7):\n",
    "    reload(sys)\n",
    "    sys.setdefaultencoding('utf-8')\n",
    "from konlpy.tag import Kkma, Okt, Hannanum\n",
    "import matplotlib.pyplot as plt\n",
    "from sklearn.model_selection import train_test_split\n",
    "kkma = Kkma()\n",
    "okt = Okt()\n",
    "hannanum = Hannanum()\n",
    "%matplotlib inline"
   ]
  },
  {
   "cell_type": "code",
   "execution_count": 2,
   "metadata": {},
   "outputs": [
    {
     "data": {
      "text/html": [
       "<div>\n",
       "<style scoped>\n",
       "    .dataframe tbody tr th:only-of-type {\n",
       "        vertical-align: middle;\n",
       "    }\n",
       "\n",
       "    .dataframe tbody tr th {\n",
       "        vertical-align: top;\n",
       "    }\n",
       "\n",
       "    .dataframe thead th {\n",
       "        text-align: right;\n",
       "    }\n",
       "</style>\n",
       "<table border=\"1\" class=\"dataframe\">\n",
       "  <thead>\n",
       "    <tr style=\"text-align: right;\">\n",
       "      <th></th>\n",
       "      <th>시인 이름</th>\n",
       "      <th>성별(남1,여0)</th>\n",
       "      <th>시</th>\n",
       "    </tr>\n",
       "  </thead>\n",
       "  <tbody>\n",
       "    <tr>\n",
       "      <th>0</th>\n",
       "      <td>김병래</td>\n",
       "      <td>1.0</td>\n",
       "      <td>뿔\\n?????? 김 병 래\\n?\\n뿔은 짐승에게만\\n있는 것이 아니다\\n?\\n사람...</td>\n",
       "    </tr>\n",
       "    <tr>\n",
       "      <th>1</th>\n",
       "      <td>김관형</td>\n",
       "      <td>1.0</td>\n",
       "      <td>&lt;font color=\"gray\"&gt;\\n\\n\\n\\n꿈의 보람\\n송암 \\n\\n?\\n진실...</td>\n",
       "    </tr>\n",
       "    <tr>\n",
       "      <th>2</th>\n",
       "      <td>채영선</td>\n",
       "      <td>0.0</td>\n",
       "      <td>&lt;font color=\"gray\"&gt;   \\n      \\n    미안해 / 소담 \\...</td>\n",
       "    </tr>\n",
       "    <tr>\n",
       "      <th>3</th>\n",
       "      <td>문재학</td>\n",
       "      <td>1.0</td>\n",
       "      <td>진눈깨비의 비애(悲哀)\\n소산/문 재학\\n\\n\\n젖어서 슬픈 미련의 진눈깨비\\n사랑...</td>\n",
       "    </tr>\n",
       "    <tr>\n",
       "      <th>4</th>\n",
       "      <td>이기호</td>\n",
       "      <td>1.0</td>\n",
       "      <td>&lt;font color=\"gray\"&gt;?\\n?\\n\\n늘 좋은 생각\\n? \\n서당  \\n...</td>\n",
       "    </tr>\n",
       "    <tr>\n",
       "      <th>...</th>\n",
       "      <td>...</td>\n",
       "      <td>...</td>\n",
       "      <td>...</td>\n",
       "    </tr>\n",
       "    <tr>\n",
       "      <th>6218</th>\n",
       "      <td>박만엽</td>\n",
       "      <td>1.0</td>\n",
       "      <td>&lt;font color=\"gray\"&gt;\\n\\n\\n\\n인연(因緣)이란 ~ \\n\\n\\n인연...</td>\n",
       "    </tr>\n",
       "    <tr>\n",
       "      <th>6219</th>\n",
       "      <td>고창표</td>\n",
       "      <td>1.0</td>\n",
       "      <td>&lt;font color=\"gray\"&gt;\\n?\\n산은 나에게\\n??????????????...</td>\n",
       "    </tr>\n",
       "    <tr>\n",
       "      <th>6220</th>\n",
       "      <td>박두범</td>\n",
       "      <td>1.0</td>\n",
       "      <td>&lt;font color=\"gray\"&gt;\\n\\n\\n“섬과 섬 사이” /운암 \\n? \\n속...</td>\n",
       "    </tr>\n",
       "    <tr>\n",
       "      <th>6221</th>\n",
       "      <td>조성설</td>\n",
       "      <td>1.0</td>\n",
       "      <td>&lt;font color=\"gray\"&gt;\\n겨울나무\\n水山/\\n? \\n고즈넉한 등산로에\\...</td>\n",
       "    </tr>\n",
       "    <tr>\n",
       "      <th>6222</th>\n",
       "      <td>정일남</td>\n",
       "      <td>1.0</td>\n",
       "      <td>\\n??? 물새알\\n??????????????????? ?? 정 일 남\\n?\\n??...</td>\n",
       "    </tr>\n",
       "  </tbody>\n",
       "</table>\n",
       "<p>6223 rows × 3 columns</p>\n",
       "</div>"
      ],
      "text/plain": [
       "     시인 이름  성별(남1,여0)                                                  시\n",
       "0      김병래        1.0  뿔\\n?????? 김 병 래\\n?\\n뿔은 짐승에게만\\n있는 것이 아니다\\n?\\n사람...\n",
       "1      김관형        1.0  <font color=\"gray\">\\n\\n\\n\\n꿈의 보람\\n송암 \\n\\n?\\n진실...\n",
       "2      채영선        0.0  <font color=\"gray\">   \\n      \\n    미안해 / 소담 \\...\n",
       "3      문재학        1.0  진눈깨비의 비애(悲哀)\\n소산/문 재학\\n\\n\\n젖어서 슬픈 미련의 진눈깨비\\n사랑...\n",
       "4      이기호        1.0  <font color=\"gray\">?\\n?\\n\\n늘 좋은 생각\\n? \\n서당  \\n...\n",
       "...    ...        ...                                                ...\n",
       "6218   박만엽        1.0  <font color=\"gray\">\\n\\n\\n\\n인연(因緣)이란 ~ \\n\\n\\n인연...\n",
       "6219   고창표        1.0  <font color=\"gray\">\\n?\\n산은 나에게\\n??????????????...\n",
       "6220   박두범        1.0  <font color=\"gray\">\\n\\n\\n“섬과 섬 사이” /운암 \\n? \\n속...\n",
       "6221   조성설        1.0  <font color=\"gray\">\\n겨울나무\\n水山/\\n? \\n고즈넉한 등산로에\\...\n",
       "6222   정일남        1.0  \\n??? 물새알\\n??????????????????? ?? 정 일 남\\n?\\n??...\n",
       "\n",
       "[6223 rows x 3 columns]"
      ]
     },
     "execution_count": 2,
     "metadata": {},
     "output_type": "execute_result"
    }
   ],
   "source": [
    "poems = pd.read_csv('poems_last.csv',header=0,encoding='CP949',error_bad_lines=False)\n",
    "poems\n",
    "# 총 데이터수 6591개"
   ]
  },
  {
   "cell_type": "code",
   "execution_count": 3,
   "metadata": {},
   "outputs": [
    {
     "data": {
      "text/plain": [
       "(<matplotlib.axes._subplots.AxesSubplot at 0x1a93a106b70>, 6223)"
      ]
     },
     "execution_count": 3,
     "metadata": {},
     "output_type": "execute_result"
    },
    {
     "data": {
      "image/png": "[encoded data removed]",
      "text/plain": [
       "<Figure size 432x288 with 1 Axes>"
      ]
     },
     "metadata": {
      "needs_background": "light"
     },
     "output_type": "display_data"
    }
   ],
   "source": [
    "poems['성별(남1,여0)'].value_counts().plot(kind='bar'), len(poems)\n",
    "# 남성시인 데이터가 훨씬 많다 ㅠ"
   ]
  },
  {
   "cell_type": "code",
   "execution_count": 4,
   "metadata": {},
   "outputs": [
    {
     "data": {
      "text/html": [
       "<div>\n",
       "<style scoped>\n",
       "    .dataframe tbody tr th:only-of-type {\n",
       "        vertical-align: middle;\n",
       "    }\n",
       "\n",
       "    .dataframe tbody tr th {\n",
       "        vertical-align: top;\n",
       "    }\n",
       "\n",
       "    .dataframe thead th {\n",
       "        text-align: right;\n",
       "    }\n",
       "</style>\n",
       "<table border=\"1\" class=\"dataframe\">\n",
       "  <thead>\n",
       "    <tr style=\"text-align: right;\">\n",
       "      <th></th>\n",
       "      <th>시인 이름</th>\n",
       "      <th>시</th>\n",
       "    </tr>\n",
       "  </thead>\n",
       "  <tbody>\n",
       "    <tr>\n",
       "      <th>0</th>\n",
       "      <td>김병래</td>\n",
       "      <td>뿔 김 병 래뿔은 짐승에게만있는 것이 아니다사람에게도 있다신종코로나로마스크 값이하늘...</td>\n",
       "    </tr>\n",
       "    <tr>\n",
       "      <th>1</th>\n",
       "      <td>김관형</td>\n",
       "      <td>꿈의 보람송암 진실한 꿈의 보람은삶이 활짝 피운 이룸의 꽃이다세월 갈피에 우쭐한 모...</td>\n",
       "    </tr>\n",
       "    <tr>\n",
       "      <th>2</th>\n",
       "      <td>채영선</td>\n",
       "      <td>미안해 / 소담         미안해 이파리가 많아서    ...</td>\n",
       "    </tr>\n",
       "    <tr>\n",
       "      <th>3</th>\n",
       "      <td>문재학</td>\n",
       "      <td>진눈깨비의 비애悲哀소산/문 재학젖어서 슬픈 미련의 진눈깨비사랑 잃은 길 위에 질척거...</td>\n",
       "    </tr>\n",
       "    <tr>\n",
       "      <th>4</th>\n",
       "      <td>이기호</td>\n",
       "      <td>늘 좋은 생각 서당   우리는 삶의 늘 좋은 생각을 갖고자신의 행복을 추구하며 살자...</td>\n",
       "    </tr>\n",
       "    <tr>\n",
       "      <th>...</th>\n",
       "      <td>...</td>\n",
       "      <td>...</td>\n",
       "    </tr>\n",
       "    <tr>\n",
       "      <th>6218</th>\n",
       "      <td>박만엽</td>\n",
       "      <td>인연因緣이란 ~ 인연이 있으면멀리 떨어져 있어도언젠가는만난다고 하지만보고느끼고마음을...</td>\n",
       "    </tr>\n",
       "    <tr>\n",
       "      <th>6219</th>\n",
       "      <td>고창표</td>\n",
       "      <td>산은 나에게 만심  내가 기지개 켜며</td>\n",
       "    </tr>\n",
       "    <tr>\n",
       "      <th>6220</th>\n",
       "      <td>박두범</td>\n",
       "      <td>“섬과 섬 사이” /운암  속살 드러내어 부르는 삶의 파노라마잡힐 듯 손닿지 않는 ...</td>\n",
       "    </tr>\n",
       "    <tr>\n",
       "      <th>6221</th>\n",
       "      <td>조성설</td>\n",
       "      <td>겨울나무水山/ 고즈넉한 등산로에가지 꺾여 우는한 그루 나무 서 있다  등산객 다리 ...</td>\n",
       "    </tr>\n",
       "    <tr>\n",
       "      <th>6222</th>\n",
       "      <td>정일남</td>\n",
       "      <td>물새알  정 일 남 물새알은 기다렸다가 숲에 숨겨놓은 둥지에서 어미 돌아오기를 기...</td>\n",
       "    </tr>\n",
       "  </tbody>\n",
       "</table>\n",
       "<p>6223 rows × 2 columns</p>\n",
       "</div>"
      ],
      "text/plain": [
       "     시인 이름                                                  시\n",
       "0      김병래  뿔 김 병 래뿔은 짐승에게만있는 것이 아니다사람에게도 있다신종코로나로마스크 값이하늘...\n",
       "1      김관형  꿈의 보람송암 진실한 꿈의 보람은삶이 활짝 피운 이룸의 꽃이다세월 갈피에 우쭐한 모...\n",
       "2      채영선               미안해 / 소담         미안해 이파리가 많아서    ...\n",
       "3      문재학  진눈깨비의 비애悲哀소산/문 재학젖어서 슬픈 미련의 진눈깨비사랑 잃은 길 위에 질척거...\n",
       "4      이기호  늘 좋은 생각 서당   우리는 삶의 늘 좋은 생각을 갖고자신의 행복을 추구하며 살자...\n",
       "...    ...                                                ...\n",
       "6218   박만엽  인연因緣이란 ~ 인연이 있으면멀리 떨어져 있어도언젠가는만난다고 하지만보고느끼고마음을...\n",
       "6219   고창표                              산은 나에게 만심  내가 기지개 켜며 \n",
       "6220   박두범  “섬과 섬 사이” /운암  속살 드러내어 부르는 삶의 파노라마잡힐 듯 손닿지 않는 ...\n",
       "6221   조성설  겨울나무水山/ 고즈넉한 등산로에가지 꺾여 우는한 그루 나무 서 있다  등산객 다리 ...\n",
       "6222   정일남   물새알  정 일 남 물새알은 기다렸다가 숲에 숨겨놓은 둥지에서 어미 돌아오기를 기...\n",
       "\n",
       "[6223 rows x 2 columns]"
      ]
     },
     "execution_count": 4,
     "metadata": {},
     "output_type": "execute_result"
    }
   ],
   "source": [
    "train_data = poems.drop(['성별(남1,여0)'],axis=1)\n",
    "target_data = poems[['성별(남1,여0)']]\n",
    "train_data = train_data.replace('\\\\n','',regex=True)\n",
    "train_data = train_data.replace('\\?','',regex=True)\n",
    "train_data = train_data.replace('<font color=\"gray\">','',regex=True)\n",
    "train_data = train_data.replace('</font>','',regex=True)\n",
    "train_data  = train_data.replace('&amp;nb','',regex=True)\n",
    "train_data  = train_data.replace('&amp;n','',regex=True)\n",
    "train_data  = train_data.replace('\\...','',regex=True)\n",
    "train_data  = train_data.replace(['\\(','\\)'],'',regex=True)\n",
    "train_data"
   ]
  },
  {
   "cell_type": "code",
   "execution_count": 5,
   "metadata": {
    "scrolled": false
   },
   "outputs": [
    {
     "data": {
      "text/plain": [
       "(성별(남1,여0)    4\n",
       " dtype: int64,\n",
       " 시인 이름    0\n",
       " 시        0\n",
       " dtype: int64)"
      ]
     },
     "execution_count": 5,
     "metadata": {},
     "output_type": "execute_result"
    }
   ],
   "source": [
    "target_data.isnull().sum(), train_data.isnull().sum()\n",
    "# 성별(label)값에 4개가 Nan임!"
   ]
  },
  {
   "cell_type": "code",
   "execution_count": 6,
   "metadata": {},
   "outputs": [
    {
     "name": "stderr",
     "output_type": "stream",
     "text": [
      "C:\\Users\\zebra\\Anaconda3\\lib\\site-packages\\ipykernel_launcher.py:1: SettingWithCopyWarning: \n",
      "A value is trying to be set on a copy of a slice from a DataFrame.\n",
      "Try using .loc[row_indexer,col_indexer] = value instead\n",
      "\n",
      "See the caveats in the documentation: https://pandas.pydata.org/pandas-docs/stable/user_guide/indexing.html#returning-a-view-versus-a-copy\n",
      "  \"\"\"Entry point for launching an IPython kernel.\n"
     ]
    },
    {
     "data": {
      "text/plain": [
       "성별(남1,여0)    0\n",
       "dtype: int64"
      ]
     },
     "execution_count": 6,
     "metadata": {},
     "output_type": "execute_result"
    }
   ],
   "source": [
    "target_data['성별(남1,여0)'] = target_data['성별(남1,여0)'].fillna(0)\n",
    "target_data.isnull().sum()"
   ]
  },
  {
   "cell_type": "code",
   "execution_count": 7,
   "metadata": {
    "scrolled": true
   },
   "outputs": [
    {
     "data": {
      "text/plain": [
       "['뿔',\n",
       " '김',\n",
       " '병',\n",
       " '래',\n",
       " '뿔',\n",
       " '은',\n",
       " '짐승',\n",
       " '에게만',\n",
       " '있다',\n",
       " '것',\n",
       " '이',\n",
       " '아니다',\n",
       " '사람',\n",
       " '에게도',\n",
       " '있다',\n",
       " '신종',\n",
       " '코로나',\n",
       " '로',\n",
       " '마스크',\n",
       " '값',\n",
       " '이하늘',\n",
       " '높이',\n",
       " '치솟다',\n",
       " '사람',\n",
       " '들',\n",
       " '눈',\n",
       " '에',\n",
       " '붉다',\n",
       " '뿔',\n",
       " '이',\n",
       " '돋아나다',\n",
       " '보이지',\n",
       " '않다',\n",
       " '만지다',\n",
       " '수',\n",
       " '없다',\n",
       " '뿔',\n",
       " '이지만',\n",
       " '탱자나무',\n",
       " '가시',\n",
       " '보다',\n",
       " '더',\n",
       " '무섭다',\n",
       " '예리하다',\n",
       " '붉다',\n",
       " '뿔',\n",
       " '이다']"
      ]
     },
     "execution_count": 7,
     "metadata": {},
     "output_type": "execute_result"
    }
   ],
   "source": [
    "stopwords = ['의','가','이','은','들','는','좀','잘','걍','과','도','를',\n",
    "             '으로','자','에','와','한','하다']\n",
    "# stopwords = 불용어\n",
    "poem_X = okt.morphs(train_data['시'][0],stem=True)\n",
    "poem_X\n",
    "# 첫번째 시 '뿔' 테스트"
   ]
  },
  {
   "cell_type": "code",
   "execution_count": 8,
   "metadata": {
    "scrolled": true
   },
   "outputs": [
    {
     "data": {
      "text/plain": [
       "['꿈',\n",
       " '보람',\n",
       " '송암',\n",
       " '진실하다',\n",
       " '꿈',\n",
       " '보람',\n",
       " '삶',\n",
       " '활짝',\n",
       " '피우다',\n",
       " '이루다',\n",
       " '꽃',\n",
       " '이다',\n",
       " '세월',\n",
       " '갈피',\n",
       " '우쭐',\n",
       " '모습',\n",
       " '새',\n",
       " '로움',\n",
       " '빛나다',\n",
       " '맵시',\n",
       " '이다',\n",
       " '숨결',\n",
       " '을',\n",
       " '어가',\n",
       " '화려하다',\n",
       " '연기',\n",
       " '뛰어나다',\n",
       " '가치',\n",
       " '이다',\n",
       " '꿈',\n",
       " '을',\n",
       " '아름',\n",
       " '묶다',\n",
       " '피땀',\n",
       " '짚',\n",
       " '인',\n",
       " '깡마르다',\n",
       " '누리',\n",
       " '피우다',\n",
       " '보람',\n",
       " '이다',\n",
       " '쓰라리다',\n",
       " '너저분하다']"
      ]
     },
     "execution_count": 8,
     "metadata": {},
     "output_type": "execute_result"
    }
   ],
   "source": [
    "matrix=[]\n",
    "for poem in train_data['시']:\n",
    "    poem_X = []\n",
    "    poem_X = okt.morphs(poem, stem=True)\n",
    "    poem_X = [word for word in poem_X if not word in stopwords]\n",
    "    matrix.append(poem_X)\n",
    "matrix[1]"
   ]
  },
  {
   "cell_type": "code",
   "execution_count": 9,
   "metadata": {},
   "outputs": [
    {
     "data": {
      "text/plain": [
       "['어느', '시인', '詩人', '독백', '가시고기', '일생']"
      ]
     },
     "execution_count": 9,
     "metadata": {},
     "output_type": "execute_result"
    }
   ],
   "source": [
    "matrix[7]"
   ]
  },
  {
   "cell_type": "code",
   "execution_count": 10,
   "metadata": {
    "scrolled": false
   },
   "outputs": [
    {
     "data": {
      "text/html": [
       "<div>\n",
       "<style scoped>\n",
       "    .dataframe tbody tr th:only-of-type {\n",
       "        vertical-align: middle;\n",
       "    }\n",
       "\n",
       "    .dataframe tbody tr th {\n",
       "        vertical-align: top;\n",
       "    }\n",
       "\n",
       "    .dataframe thead th {\n",
       "        text-align: right;\n",
       "    }\n",
       "</style>\n",
       "<table border=\"1\" class=\"dataframe\">\n",
       "  <thead>\n",
       "    <tr style=\"text-align: right;\">\n",
       "      <th></th>\n",
       "      <th>시제목</th>\n",
       "      <th>시인</th>\n",
       "      <th>성별(남1 여0)</th>\n",
       "      <th>시</th>\n",
       "    </tr>\n",
       "  </thead>\n",
       "  <tbody>\n",
       "    <tr>\n",
       "      <th>1</th>\n",
       "      <td>꽃 두고                                          ...</td>\n",
       "      <td>최남선</td>\n",
       "      <td>1.0</td>\n",
       "      <td>나는 꽃을 즐겨 맞노라.  그러나 그의 아리따운 태도를 보고 눈이 어리어   그의 ...</td>\n",
       "    </tr>\n",
       "    <tr>\n",
       "      <th>2</th>\n",
       "      <td>비둘기                                          ...</td>\n",
       "      <td>이광수</td>\n",
       "      <td>1.0</td>\n",
       "      <td>오오 봄 아침에 구슬프게 우는 비둘기  죽은 그 애가 퍽으나도 설게 듣던 비둘기  ...</td>\n",
       "    </tr>\n",
       "    <tr>\n",
       "      <th>3</th>\n",
       "      <td>샘물이 혼자서                                      ...</td>\n",
       "      <td>주요한</td>\n",
       "      <td>1.0</td>\n",
       "      <td>샘물이 혼자서  춤추며 간다.  산골짜기 돌 틈으로      샘물이 혼자서  웃...</td>\n",
       "    </tr>\n",
       "    <tr>\n",
       "      <th>4</th>\n",
       "      <td>불놀이                                          ...</td>\n",
       "      <td>주요한</td>\n",
       "      <td>1.0</td>\n",
       "      <td>아아  날이 저문다. 서편 하늘에  외로운 강물 위에  스러져 가는 분홍빛 놀 ...</td>\n",
       "    </tr>\n",
       "    <tr>\n",
       "      <th>5</th>\n",
       "      <td>빗소리                                          ...</td>\n",
       "      <td>주요한</td>\n",
       "      <td>1.0</td>\n",
       "      <td>비가 옵니다.  밤은 고요히 깃을 벌리고  비는 뜰 위에 속삭입니다.  몰래 지...</td>\n",
       "    </tr>\n",
       "    <tr>\n",
       "      <th>...</th>\n",
       "      <td>...</td>\n",
       "      <td>...</td>\n",
       "      <td>...</td>\n",
       "      <td>...</td>\n",
       "    </tr>\n",
       "    <tr>\n",
       "      <th>392</th>\n",
       "      <td>그 날                                          ...</td>\n",
       "      <td>이성복</td>\n",
       "      <td>1.0</td>\n",
       "      <td>(李晟馥)  그 날 아버지는 일곱 시 기차를 타고 금촌으로 떠났고  여동생은 아홉 ...</td>\n",
       "    </tr>\n",
       "    <tr>\n",
       "      <th>393</th>\n",
       "      <td>세속도시의 즐거움                                    ...</td>\n",
       "      <td>최승호</td>\n",
       "      <td>1.0</td>\n",
       "      <td>(崔勝鎬)  상복 허리춤에 전대를 차고  곡하던 여인은 늦은 밤 손익을  계산해 본...</td>\n",
       "    </tr>\n",
       "    <tr>\n",
       "      <th>394</th>\n",
       "      <td>새들도 세상을 뜨는구나                                 ...</td>\n",
       "      <td>황지우</td>\n",
       "      <td>1.0</td>\n",
       "      <td>(黃芝雨)  영화가 시작하기 전에 우리는  일제히 일어나 애국가를 경청한다.  삼천...</td>\n",
       "    </tr>\n",
       "    <tr>\n",
       "      <th>395</th>\n",
       "      <td>섬진강                                          ...</td>\n",
       "      <td>김용택</td>\n",
       "      <td>1.0</td>\n",
       "      <td>(金龍澤)  가문 섬진강을 따라가며 보라  퍼가도 퍼가도 전라도 실핏줄 같은  개울...</td>\n",
       "    </tr>\n",
       "    <tr>\n",
       "      <th>396</th>\n",
       "      <td>노동의 새벽                                       ...</td>\n",
       "      <td>박노해</td>\n",
       "      <td>1.0</td>\n",
       "      <td>전쟁 같은 밤일을 마치고 난  새벽 쓰린 가슴 위로  차거운 소주를 붓는다  아...</td>\n",
       "    </tr>\n",
       "  </tbody>\n",
       "</table>\n",
       "<p>396 rows × 4 columns</p>\n",
       "</div>"
      ],
      "text/plain": [
       "                                                   시제목     시인  성별(남1 여0)  \\\n",
       "1    꽃 두고                                          ...   최남선         1.0   \n",
       "2     비둘기                                          ...   이광수         1.0   \n",
       "3     샘물이 혼자서                                      ...   주요한         1.0   \n",
       "4     불놀이                                          ...   주요한         1.0   \n",
       "5     빗소리                                          ...   주요한         1.0   \n",
       "..                                                 ...    ...        ...   \n",
       "392   그 날                                          ...   이성복         1.0   \n",
       "393   세속도시의 즐거움                                    ...   최승호         1.0   \n",
       "394   새들도 세상을 뜨는구나                                 ...   황지우         1.0   \n",
       "395   섬진강                                          ...   김용택         1.0   \n",
       "396   노동의 새벽                                       ...   박노해         1.0   \n",
       "\n",
       "                                                     시  \n",
       "1    나는 꽃을 즐겨 맞노라.  그러나 그의 아리따운 태도를 보고 눈이 어리어   그의 ...  \n",
       "2    오오 봄 아침에 구슬프게 우는 비둘기  죽은 그 애가 퍽으나도 설게 듣던 비둘기  ...  \n",
       "3      샘물이 혼자서  춤추며 간다.  산골짜기 돌 틈으로      샘물이 혼자서  웃...  \n",
       "4      아아  날이 저문다. 서편 하늘에  외로운 강물 위에  스러져 가는 분홍빛 놀 ...  \n",
       "5      비가 옵니다.  밤은 고요히 깃을 벌리고  비는 뜰 위에 속삭입니다.  몰래 지...  \n",
       "..                                                 ...  \n",
       "392  (李晟馥)  그 날 아버지는 일곱 시 기차를 타고 금촌으로 떠났고  여동생은 아홉 ...  \n",
       "393  (崔勝鎬)  상복 허리춤에 전대를 차고  곡하던 여인은 늦은 밤 손익을  계산해 본...  \n",
       "394  (黃芝雨)  영화가 시작하기 전에 우리는  일제히 일어나 애국가를 경청한다.  삼천...  \n",
       "395  (金龍澤)  가문 섬진강을 따라가며 보라  퍼가도 퍼가도 전라도 실핏줄 같은  개울...  \n",
       "396    전쟁 같은 밤일을 마치고 난  새벽 쓰린 가슴 위로  차거운 소주를 붓는다  아...  \n",
       "\n",
       "[396 rows x 4 columns]"
      ]
     },
     "execution_count": 10,
     "metadata": {},
     "output_type": "execute_result"
    }
   ],
   "source": [
    "poem2 = pd.read_csv('유명한시.csv',encoding='CP949')\n",
    "poem2 = poem2[1:]\n",
    "poem2"
   ]
  },
  {
   "cell_type": "code",
   "execution_count": 11,
   "metadata": {},
   "outputs": [],
   "source": [
    "train_data2 = poem2[['시']]\n",
    "target_data2 = poem2[['성별(남1 여0)']]"
   ]
  },
  {
   "cell_type": "code",
   "execution_count": 54,
   "metadata": {},
   "outputs": [
    {
     "data": {
      "text/plain": [
       "['오오',\n",
       " '봄',\n",
       " '아침',\n",
       " '구',\n",
       " '슬프다',\n",
       " '울다',\n",
       " '비둘기',\n",
       " '죽다',\n",
       " '그',\n",
       " '애가',\n",
       " '퍽',\n",
       " '으',\n",
       " '나다',\n",
       " '설다',\n",
       " '듣다',\n",
       " '비둘기',\n",
       " '그',\n",
       " '애가',\n",
       " '가다',\n",
       " '날',\n",
       " '아침',\n",
       " '에도',\n",
       " '꼭',\n",
       " '저렇게',\n",
       " '울다',\n",
       " '.',\n",
       " '그',\n",
       " '애',\n",
       " '그',\n",
       " '착하다',\n",
       " '딸',\n",
       " '죽다',\n",
       " '지도',\n",
       " '벌써',\n",
       " '일',\n",
       " '년',\n",
       " '<',\n",
       " '나다',\n",
       " '죽다',\n",
       " '비둘기',\n",
       " '되다',\n",
       " '싶다',\n",
       " '산',\n",
       " '돌다',\n",
       " '다니다',\n",
       " '울',\n",
       " '고',\n",
       " '싶다',\n",
       " '>',\n",
       " '.',\n",
       " '(\"',\n",
       " '조광',\n",
       " '\"']"
      ]
     },
     "execution_count": 54,
     "metadata": {},
     "output_type": "execute_result"
    }
   ],
   "source": [
    "matrix2=[]\n",
    "for poem2 in train_data2['시']:\n",
    "    poem_X = []\n",
    "    poem_X = okt.morphs(poem2, stem=True)\n",
    "    poem_X = [word for word in poem_X if not word in stopwords]\n",
    "    matrix2.append(poem_X)\n",
    "matrix2[1]"
   ]
  },
  {
   "cell_type": "code",
   "execution_count": 13,
   "metadata": {},
   "outputs": [],
   "source": [
    "matrix = [x for x in matrix if str(x) !='nan']"
   ]
  },
  {
   "cell_type": "code",
   "execution_count": 55,
   "metadata": {
    "scrolled": true
   },
   "outputs": [],
   "source": [
    "from tensorflow.keras.preprocessing.text import Tokenizer\n",
    "from tensorflow.keras.preprocessing.sequence import pad_sequences\n",
    "max_words = 35000\n",
    "tokenizer = Tokenizer(num_words=max_words)\n",
    "tokenizer.fit_on_texts(matrix)\n",
    "tokenizer.fit_on_texts(matrix2)\n",
    "sequences = tokenizer.texts_to_sequences(matrix)\n",
    "sequences2 = tokenizer.texts_to_sequences(matrix2)"
   ]
  },
  {
   "cell_type": "code",
   "execution_count": 15,
   "metadata": {},
   "outputs": [
    {
     "name": "stdout",
     "output_type": "stream",
     "text": [
      "시의 최대 길이: 744\n",
      "시의 평균 길이: 131.19949494949495\n"
     ]
    }
   ],
   "source": [
    "X_data2 = sequences2\n",
    "X_data = sequences\n",
    "print('시의 최대 길이:',max(len(l) for l in X_data2))\n",
    "print('시의 평균 길이:',sum(map(len,X_data2))/len(X_data2))"
   ]
  },
  {
   "cell_type": "code",
   "execution_count": 16,
   "metadata": {},
   "outputs": [
    {
     "data": {
      "text/plain": [
       "(6223, 744)"
      ]
     },
     "execution_count": 16,
     "metadata": {},
     "output_type": "execute_result"
    }
   ],
   "source": [
    "max_len = 67\n",
    "max_len2 = 744\n",
    "# 전체 데이터 셋 길이를 67로 맞추기 위해 패딩\n",
    "data = pad_sequences(X_data,maxlen=max_len2)\n",
    "data2 = pad_sequences(X_data2,maxlen=max_len2)\n",
    "data.shape"
   ]
  },
  {
   "cell_type": "code",
   "execution_count": 53,
   "metadata": {
    "scrolled": true
   },
   "outputs": [],
   "source": [
    "x_train, x_test, y_train, y_test = train_test_split(data,target_data,test_size=0.2)\n",
    "# TRAIN_TEST_SPLIT"
   ]
  },
  {
   "cell_type": "code",
   "execution_count": 42,
   "metadata": {
    "scrolled": true
   },
   "outputs": [
    {
     "data": {
      "text/plain": [
       "array([[    0,     0,     0, ...,  1148,   559,    40],\n",
       "       [    0,     0,     0, ...,    11,  9047,   991],\n",
       "       [    0,     0,     0, ...,  1355,  3822,  4926],\n",
       "       [    0,     0,     0, ...,  5021,  7840, 13815],\n",
       "       [    0,     0,     0, ...,     1,  2400,  2257]])"
      ]
     },
     "execution_count": 42,
     "metadata": {},
     "output_type": "execute_result"
    }
   ],
   "source": [
    "x_train = np.array(list(x for x in x_train))\n",
    "y_train = np.array(y_train)\n",
    "x_test = np.array(x_test)\n",
    "y_test = np.array(y_test)\n",
    "data2 = np.array(data2)\n",
    "target_data2 = np.array(target_data2)\n",
    "# 혹시 모르니 np.array로!\n",
    "x_train[0:5]"
   ]
  },
  {
   "cell_type": "markdown",
   "metadata": {},
   "source": [
    "# Decision Tree"
   ]
  },
  {
   "cell_type": "code",
   "execution_count": 25,
   "metadata": {},
   "outputs": [
    {
     "name": "stdout",
     "output_type": "stream",
     "text": [
      "training set accuracy: 0.9997991161108879\n",
      "test set accuracy: 0.7068273092369478\n",
      "test2 set accurcay: 0.6616161616161617\n"
     ]
    },
    {
     "data": {
      "text/plain": [
       "array([1., 1., 1., ..., 1., 1., 1.])"
      ]
     },
     "execution_count": 25,
     "metadata": {},
     "output_type": "execute_result"
    }
   ],
   "source": [
    "from sklearn.tree import DecisionTreeClassifier\n",
    "tree = DecisionTreeClassifier()\n",
    "tree.fit(x_train,y_train)\n",
    "\n",
    "print('training set accuracy:',tree.score(x_train, y_train))\n",
    "print('test set accuracy:',tree.score(x_test,y_test))\n",
    "print('test2 set accurcay:',tree.score(data2,target_data2))\n",
    "\n",
    "prediction_by_tree = tree.predict(x_test)\n",
    "prediction_by_tree\n",
    "# train set accuracy 가 1.0이 나오는 이유는?"
   ]
  },
  {
   "cell_type": "markdown",
   "metadata": {},
   "source": [
    "# RandomForestClassifier"
   ]
  },
  {
   "cell_type": "code",
   "execution_count": 20,
   "metadata": {},
   "outputs": [
    {
     "name": "stderr",
     "output_type": "stream",
     "text": [
      "C:\\Users\\zebra\\Anaconda3\\lib\\site-packages\\ipykernel_launcher.py:3: DataConversionWarning: A column-vector y was passed when a 1d array was expected. Please change the shape of y to (n_samples,), for example using ravel().\n",
      "  This is separate from the ipykernel package so we can avoid doing imports until\n"
     ]
    },
    {
     "name": "stdout",
     "output_type": "stream",
     "text": [
      "training set accuracy: 0.9921655283246283\n",
      "test set accuracy: 0.7831325301204819\n",
      "test2 set accurcay: 0.8156565656565656\n"
     ]
    },
    {
     "data": {
      "text/plain": [
       "array([1., 1., 1., ..., 1., 1., 1.])"
      ]
     },
     "execution_count": 20,
     "metadata": {},
     "output_type": "execute_result"
    }
   ],
   "source": [
    "from sklearn.ensemble import RandomForestClassifier\n",
    "forest = RandomForestClassifier(n_estimators=10)\n",
    "forest.fit(x_train,y_train)\n",
    "\n",
    "print('training set accuracy:',forest.score(x_train,y_train))\n",
    "print('test set accuracy:',forest.score(x_test,y_test))\n",
    "print('test2 set accurcay:',forest.score(data2,target_data2))\n",
    "\n",
    "prediction_by_forest = forest.predict(x_test)\n",
    "prediction_by_forest"
   ]
  },
  {
   "cell_type": "code",
   "execution_count": 26,
   "metadata": {},
   "outputs": [],
   "source": [
    "from tensorflow.keras.layers import SimpleRNN,Embedding,Dense\n",
    "from tensorflow.keras.models import Sequential"
   ]
  },
  {
   "cell_type": "code",
   "execution_count": 47,
   "metadata": {},
   "outputs": [
    {
     "name": "stdout",
     "output_type": "stream",
     "text": [
      "Train on 3982 samples, validate on 996 samples\n",
      "Epoch 1/3\n",
      "3982/3982 [==============================] - 11s 3ms/sample - loss: 0.4892 - acc: 0.8064 - val_loss: 0.4554 - val_acc: 0.8313\n",
      "Epoch 2/3\n",
      "3982/3982 [==============================] - 10s 2ms/sample - loss: 0.4625 - acc: 0.8016 - val_loss: 0.4491 - val_acc: 0.8313\n",
      "Epoch 3/3\n",
      "3982/3982 [==============================] - 10s 2ms/sample - loss: 0.3265 - acc: 0.8574 - val_loss: 0.4521 - val_acc: 0.8293\n"
     ]
    }
   ],
   "source": [
    "word_to_index = tokenizer.word_index\n",
    "vocab_size = len(word_to_index)+1\n",
    "model = Sequential()\n",
    "model.add(Embedding(vocab_size,32)) # 임베딩 벡터의 차원 32\n",
    "model.add(SimpleRNN(32)) # hidden_size 32\n",
    "model.add(Dense(1, activation='sigmoid'))\n",
    "model.compile(optimizer='rmsprop',loss='binary_crossentropy',metrics=['acc'])\n",
    "history = model.fit(x_train,y_train,epochs=3,batch_size=64,validation_split=0.2)\n",
    "# 함수 = sigmoid, 손실함수 = binary_crossentropy, validation split = 0.2"
   ]
  },
  {
   "cell_type": "code",
   "execution_count": 52,
   "metadata": {},
   "outputs": [
    {
     "name": "stdout",
     "output_type": "stream",
     "text": [
      "\r",
      "396/1 [========================================================================================================================================================================================================================================================================================================================================================================================================================================================================================================================================================================================================================================================================================================================================================================================================================================================================================================================================================================================================================================================================================================================================================================================================================================================================================================================================================================================================================================================================================================================================================================================================================================================================================================================================================================================================================================================================================================================================================================================================================================================================================================================================================================================================================================================================================================================================================================================================================================================================================================================================================================================================================================================================================================================================================================================================================================================================================================================================================================================================================================================================================================================================================================================================================================================================================================================================================================================================================================================================================================================================================================================================================================================================================================================================================================================================================================================================================================================================================================================================================================================================================================================================================================================================================================================================================================================================================================================================================================================================================================================================================================================================================================================================================================================================================================================================================================================================================================================================================================================================================================================================================================================================================================================================================================================================================================================================================================================================================================================================================================================================================================================================================================================================================================================================================================================================================================================================================================================================================================================================================================================================================================================================================================================================================================================================================================================================================================================================================================================================================================================================================================================================================================================================================================================================================================================================================================================================================================================================================================================================================================================================================================================================================================================================================================================================================================================================================================================================================================================================================================================================================================================================================================================================================================================================================================================================================================================================================================================================================================================================================================================================================================================================================================================================================================================================================================================================================================================================================================================================================================================================================================================================================================================================================================================================================================================================================================================================================================================================================================================================================================================================================================================================================================================================================================================================================================================================================================================================================================================================================================================================================================================================================================================================================================================================================================================================================================================================================================================================================================================================================================================================================================================================================================================================================================================================================================================================================================================================================================================================================================================================================================================================================================================================================================================================================================================================================================================================================================================================================================================================================================================================================================================================================================================================================================================================================================================================================================================================================================================================================================================================================================================================================================================================================================================================================================================================================================================================================================================================================================================================================================================================================================================================================================================================================================================================================================================================================================] - 0s 1ms/sample - loss: 0.2641 - acc: 0.9646\n"
     ]
    },
    {
     "data": {
      "text/plain": [
       "0.96464646"
      ]
     },
     "execution_count": 52,
     "metadata": {},
     "output_type": "execute_result"
    }
   ],
   "source": [
    "model.evaluate(data2,target_data2)[1]"
   ]
  },
  {
   "cell_type": "code",
   "execution_count": 50,
   "metadata": {},
   "outputs": [
    {
     "data": {
      "image/png": "[encoded data removed]",
      "text/plain": [
       "<Figure size 432x288 with 1 Axes>"
      ]
     },
     "metadata": {
      "needs_background": "light"
     },
     "output_type": "display_data"
    }
   ],
   "source": [
    "epochs = range(1, len(history.history['acc']) + 1)\n",
    "plt.plot(epochs, history.history['loss'])\n",
    "plt.plot(epochs, history.history['val_loss'])\n",
    "plt.title('model loss')\n",
    "plt.ylabel('loss')\n",
    "plt.xlabel('epoch')\n",
    "plt.legend(['train', 'val'], loc='upper left')\n",
    "plt.show()\n",
    "# loss가 마이너스로 가는이유"
   ]
  },
  {
   "cell_type": "code",
   "execution_count": null,
   "metadata": {},
   "outputs": [],
   "source": []
  }
 ],
 "metadata": {
  "kernelspec": {
   "display_name": "Python 3",
   "language": "python",
   "name": "python3"
  },
  "language_info": {
   "codemirror_mode": {
    "name": "ipython",
    "version": 3
   },
   "file_extension": ".py",
   "mimetype": "text/x-python",
   "name": "python",
   "nbconvert_exporter": "python",
   "pygments_lexer": "ipython3",
   "version": "3.7.3"
  }
 },
 "nbformat": 4,
 "nbformat_minor": 2
}
