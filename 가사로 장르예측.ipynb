{
 "cells": [
  {
   "cell_type": "code",
   "execution_count": 1,
   "metadata": {
    "scrolled": true
   },
   "outputs": [
    {
     "name": "stderr",
     "output_type": "stream",
     "text": [
      "b'Skipping line 49: expected 3 fields, saw 10\\nSkipping line 73: expected 3 fields, saw 4\\n'\n"
     ]
    }
   ],
   "source": [
    "# -*- encoding:utf8 -*-\n",
    "import pandas as pd\n",
    "import numpy as np\n",
    "import konlpy\n",
    "import sys\n",
    "if sys.version_info <= (2,7):\n",
    "    reload(sys)\n",
    "    sys.setdefaultencoding('utf-8')\n",
    "from konlpy.tag import Kkma, Okt, Hannanum\n",
    "train = pd.read_csv('balad.csv', header=0, encoding='CP949', error_bad_lines=False)\n",
    "import matplotlib.pyplot as plt\n",
    "from sklearn.model_selection import train_test_split\n",
    "kkma = Kkma()\n",
    "okt = Okt()\n",
    "hannanum = Hannanum()\n",
    "%matplotlib inline"
   ]
  },
  {
   "cell_type": "code",
   "execution_count": 2,
   "metadata": {
    "scrolled": true
   },
   "outputs": [
    {
     "name": "stderr",
     "output_type": "stream",
     "text": [
      "b'Skipping line 49: expected 3 fields, saw 10\\nSkipping line 73: expected 3 fields, saw 4\\n'\n",
      "b'Skipping line 17: expected 3 fields, saw 6\\nSkipping line 60: expected 3 fields, saw 7\\nSkipping line 63: expected 3 fields, saw 12\\nSkipping line 81: expected 3 fields, saw 4\\nSkipping line 88: expected 3 fields, saw 20\\nSkipping line 91: expected 3 fields, saw 15\\nSkipping line 132: expected 3 fields, saw 6\\nSkipping line 141: expected 3 fields, saw 65\\nSkipping line 236: expected 3 fields, saw 4\\nSkipping line 241: expected 3 fields, saw 5\\n'\n"
     ]
    }
   ],
   "source": [
    "balad = pd.read_csv('balad.csv',header=0, encoding='CP949',error_bad_lines=False)\n",
    "hiphop = pd.read_csv('hiphop.csv',header=0, encoding='CP949',error_bad_lines=False)\n",
    "hiphop['장르']=2"
   ]
  },
  {
   "cell_type": "code",
   "execution_count": 3,
   "metadata": {
    "scrolled": true
   },
   "outputs": [],
   "source": [
    "balad['장르']=1"
   ]
  },
  {
   "cell_type": "code",
   "execution_count": 4,
   "metadata": {
    "scrolled": true
   },
   "outputs": [],
   "source": [
    "train = pd.concat([balad,hiphop],join='inner')\n",
    "train2 = train.drop(' ', axis=1)\n",
    "train2.to_csv('test.csv',encoding='CP949')"
   ]
  },
  {
   "cell_type": "code",
   "execution_count": 5,
   "metadata": {
    "scrolled": false
   },
   "outputs": [
    {
     "name": "stdout",
     "output_type": "stream",
     "text": [
      "<class 'pandas.core.frame.DataFrame'>\n",
      "Int64Index: 356 entries, 0 to 239\n",
      "Data columns (total 3 columns):\n",
      "가수     356 non-null object\n",
      " 가사    356 non-null object\n",
      "장르     356 non-null int64\n",
      "dtypes: int64(1), object(2)\n",
      "memory usage: 11.1+ KB\n"
     ]
    }
   ],
   "source": [
    "train2.info()"
   ]
  },
  {
   "cell_type": "code",
   "execution_count": 6,
   "metadata": {},
   "outputs": [
    {
     "data": {
      "text/html": [
       "<div>\n",
       "<style scoped>\n",
       "    .dataframe tbody tr th:only-of-type {\n",
       "        vertical-align: middle;\n",
       "    }\n",
       "\n",
       "    .dataframe tbody tr th {\n",
       "        vertical-align: top;\n",
       "    }\n",
       "\n",
       "    .dataframe thead th {\n",
       "        text-align: right;\n",
       "    }\n",
       "</style>\n",
       "<table border=\"1\" class=\"dataframe\">\n",
       "  <thead>\n",
       "    <tr style=\"text-align: right;\">\n",
       "      <th></th>\n",
       "      <th>가수</th>\n",
       "      <th>가사</th>\n",
       "      <th>장르</th>\n",
       "    </tr>\n",
       "  </thead>\n",
       "  <tbody>\n",
       "    <tr>\n",
       "      <th>0</th>\n",
       "      <td>HIGH4 (하이포)/ 아이유</td>\n",
       "      <td>길었던 겨우내 줄곧 품이 좀 남는 밤색 코트 그 속에 나를 쏙 감추고 걸음을 재촉해...</td>\n",
       "      <td>1</td>\n",
       "    </tr>\n",
       "    <tr>\n",
       "      <th>1</th>\n",
       "      <td>아이유</td>\n",
       "      <td>월요일엔 아마 바쁘지 않을까 화요일도 성급해 보이지 안 그래 수요일은 뭔가 어정쩡한...</td>\n",
       "      <td>1</td>\n",
       "    </tr>\n",
       "    <tr>\n",
       "      <th>2</th>\n",
       "      <td>아이유</td>\n",
       "      <td>너의 그 한 마디 말도 그 웃음도 나에겐 커다란 의미 너의 그 작은 눈빛도 쓸쓸한 ...</td>\n",
       "      <td>1</td>\n",
       "    </tr>\n",
       "    <tr>\n",
       "      <th>3</th>\n",
       "      <td>박효신</td>\n",
       "      <td>어느새 길어진 그림자를 따라서 땅거미 진 어둠 속을 그대와 걷고 있네요 손을 마주잡...</td>\n",
       "      <td>1</td>\n",
       "    </tr>\n",
       "    <tr>\n",
       "      <th>4</th>\n",
       "      <td>어쿠스틱 콜라보</td>\n",
       "      <td>니 생각에 꽤 즐겁고 니 생각에 퍽 외로워 이상한 일이야 누굴 좋아한단 건 아무 일...</td>\n",
       "      <td>1</td>\n",
       "    </tr>\n",
       "    <tr>\n",
       "      <th>5</th>\n",
       "      <td>규현 (KYUHYUN)</td>\n",
       "      <td>넌 어땠는지 아직 여름이 남아 왠지 난 조금 지쳤던 하루 광화문 가로수 은행잎 물들...</td>\n",
       "      <td>1</td>\n",
       "    </tr>\n",
       "    <tr>\n",
       "      <th>6</th>\n",
       "      <td>어쿠스틱 콜라보</td>\n",
       "      <td>혼자 이별을 하고 가버리면 난 어떡하라고 너 없는 하루를 살아보고 너 없는 채로 잠...</td>\n",
       "      <td>1</td>\n",
       "    </tr>\n",
       "    <tr>\n",
       "      <th>7</th>\n",
       "      <td>엠씨더맥스</td>\n",
       "      <td>마음이 알고 가 낯선 길인데도 니 숨결이 머문 자리는 너무 그립다 그립다 못해 아프...</td>\n",
       "      <td>1</td>\n",
       "    </tr>\n",
       "    <tr>\n",
       "      <th>8</th>\n",
       "      <td>엠씨더맥스</td>\n",
       "      <td>행복을 줄 수 없었어 그런데 사랑을 했어 니곁에 감히 머무른 내 욕심을 용서치마 방...</td>\n",
       "      <td>1</td>\n",
       "    </tr>\n",
       "    <tr>\n",
       "      <th>9</th>\n",
       "      <td>정키</td>\n",
       "      <td>아침에 눈을 떴을 때 텅 빈 방안에 나 홀로 니 빈자리 거닐면서 많은 생각들에 잠겨...</td>\n",
       "      <td>1</td>\n",
       "    </tr>\n",
       "    <tr>\n",
       "      <th>10</th>\n",
       "      <td>비스트</td>\n",
       "      <td>세상이 어두워지고 조용히 비가 내리면 여전히 그대로 오늘도 어김없이 난 벗어나질 못...</td>\n",
       "      <td>1</td>\n",
       "    </tr>\n",
       "    <tr>\n",
       "      <th>11</th>\n",
       "      <td>성시경</td>\n",
       "      <td>이윽고 내가 한눈에 너를 알아봤을 때 모든 건 분명 달라지고 있었어 내 세상은 널 ...</td>\n",
       "      <td>1</td>\n",
       "    </tr>\n",
       "    <tr>\n",
       "      <th>12</th>\n",
       "      <td>엠씨더맥스</td>\n",
       "      <td>옅은 바람 냄새에 두 눈을 감아본다 낡은 가슴 여전한 떨림 그대가 그대가 온다 어렴...</td>\n",
       "      <td>1</td>\n",
       "    </tr>\n",
       "    <tr>\n",
       "      <th>13</th>\n",
       "      <td>성시경/ 박효신/ 이석훈/ 서인국/ VIXX (빅스)</td>\n",
       "      <td>오늘은 뭔가 좀 다른 기분 Feeling 이젠 때가 된 것 같은 느낌 Love U ...</td>\n",
       "      <td>1</td>\n",
       "    </tr>\n",
       "    <tr>\n",
       "      <th>14</th>\n",
       "      <td>엠씨더맥스</td>\n",
       "      <td>이젠 내가 돌아서려 해 다신 그 사람과 네 앞에서 보이지 않게 이제 너에겐 어떤 바...</td>\n",
       "      <td>1</td>\n",
       "    </tr>\n",
       "    <tr>\n",
       "      <th>15</th>\n",
       "      <td>김동률</td>\n",
       "      <td>마치 어제 만난 것처럼 잘있었냔 인사가 무색할 만큼 괜한 우려였는지 서먹한 내가 되...</td>\n",
       "      <td>1</td>\n",
       "    </tr>\n",
       "    <tr>\n",
       "      <th>16</th>\n",
       "      <td>에일리</td>\n",
       "      <td>어떤 날에든 저녁 하늘은 못 올려보는 습관이 있어 온 세상이 날 떠나는듯한 이상한 ...</td>\n",
       "      <td>1</td>\n",
       "    </tr>\n",
       "    <tr>\n",
       "      <th>17</th>\n",
       "      <td>지아</td>\n",
       "      <td>술 한잔 해요 날씨가 쌀쌀하니까 따끈따끈 국물에 소주 한잔 어때요 시간 없다면 내 ...</td>\n",
       "      <td>1</td>\n",
       "    </tr>\n",
       "    <tr>\n",
       "      <th>18</th>\n",
       "      <td>성시경</td>\n",
       "      <td>니가 없는 거리에는 내가 할일이 없어서 마냥 걷다 걷다보면 추억을 가끔 마주치지 떠...</td>\n",
       "      <td>1</td>\n",
       "    </tr>\n",
       "    <tr>\n",
       "      <th>19</th>\n",
       "      <td>김범수</td>\n",
       "      <td>내가 이렇게 아픈데 그댄 어떨까요 원래 떠나는 사람이 더 힘든 법인데 아무 말하지 ...</td>\n",
       "      <td>1</td>\n",
       "    </tr>\n",
       "    <tr>\n",
       "      <th>20</th>\n",
       "      <td>포스트맨(Postmen)</td>\n",
       "      <td>신촌을 못가 한번을 못가 혹시 너와 마주칠까 봐 널 보면 눈물이 터질까 봐 친구들 ...</td>\n",
       "      <td>1</td>\n",
       "    </tr>\n",
       "    <tr>\n",
       "      <th>21</th>\n",
       "      <td>엠씨더맥스</td>\n",
       "      <td>왜 이리도 이 세상엔 이별이 많은지 왜 사랑이 힘든 건지 난 궁금했었죠 난 이제 또...</td>\n",
       "      <td>1</td>\n",
       "    </tr>\n",
       "    <tr>\n",
       "      <th>22</th>\n",
       "      <td>박효신</td>\n",
       "      <td>나의 기억 어딘가에 동그마니 숨어 있다 울컥 쏟아져 내려 오는 너 기나긴 하루 한번...</td>\n",
       "      <td>1</td>\n",
       "    </tr>\n",
       "    <tr>\n",
       "      <th>23</th>\n",
       "      <td>노을</td>\n",
       "      <td>너무 보고 싶어서 가만히 너를 떠올려 보기도 했어 기억 속 네가 흐려진 만큼 잊혀진...</td>\n",
       "      <td>1</td>\n",
       "    </tr>\n",
       "    <tr>\n",
       "      <th>24</th>\n",
       "      <td>박효신</td>\n",
       "      <td>그대가 부네요 내 가슴 안에 그대라는 바람이 언제나 내게 그랬듯이 내 맘 흔들어 놓...</td>\n",
       "      <td>1</td>\n",
       "    </tr>\n",
       "    <tr>\n",
       "      <th>25</th>\n",
       "      <td>김동률</td>\n",
       "      <td>눈부신 햇살이 오늘도 나를 감싸며 살아있음을 그대에게 난 감사해요 부족한 내 마음이...</td>\n",
       "      <td>1</td>\n",
       "    </tr>\n",
       "    <tr>\n",
       "      <th>26</th>\n",
       "      <td>정승환</td>\n",
       "      <td>운동을 하고 열심히 일하고 주말엔 영화도 챙겨보곤 해 서점에 들러 책 속에 빠져서 ...</td>\n",
       "      <td>1</td>\n",
       "    </tr>\n",
       "    <tr>\n",
       "      <th>27</th>\n",
       "      <td>윤종신</td>\n",
       "      <td>이제부터 웃음기 사라질거야 가파른 이 길을 좀 봐 그래 오르기 전에 미소를 기억해두...</td>\n",
       "      <td>1</td>\n",
       "    </tr>\n",
       "    <tr>\n",
       "      <th>28</th>\n",
       "      <td>케이윌</td>\n",
       "      <td>입안에서 바람 맛이 달콤한 아침 새하얀 이불위로 닿는 햇살이 좋아 설레는 전화 벨소...</td>\n",
       "      <td>1</td>\n",
       "    </tr>\n",
       "    <tr>\n",
       "      <th>29</th>\n",
       "      <td>린</td>\n",
       "      <td>나만 원한다 했던 말도 지켜준다던 약속들도 아무렇지 않은 표정으로 버리고 있잖아 너...</td>\n",
       "      <td>1</td>\n",
       "    </tr>\n",
       "    <tr>\n",
       "      <th>...</th>\n",
       "      <td>...</td>\n",
       "      <td>...</td>\n",
       "      <td>...</td>\n",
       "    </tr>\n",
       "    <tr>\n",
       "      <th>326</th>\n",
       "      <td>G-DRAGON</td>\n",
       "      <td>I’m just wild &amp; young I’m just wild &amp; young do...</td>\n",
       "      <td>2</td>\n",
       "    </tr>\n",
       "    <tr>\n",
       "      <th>327</th>\n",
       "      <td>CHEEZE (치즈)</td>\n",
       "      <td>그대가 날 바라 볼 때 살며시 미소 지을 땐 조금은 알 수 있는걸 시큰둥 투정 부리...</td>\n",
       "      <td>2</td>\n",
       "    </tr>\n",
       "    <tr>\n",
       "      <th>328</th>\n",
       "      <td>CHEEZE (치즈)</td>\n",
       "      <td>그대와 나를 이어주던 작은 이유를 모두 감춘 듯 Oh no 멀어져 가는 듯 해 아직...</td>\n",
       "      <td>2</td>\n",
       "    </tr>\n",
       "    <tr>\n",
       "      <th>329</th>\n",
       "      <td>Supreme Team</td>\n",
       "      <td>배가불렀지 어 배가불렀어  그렇게 예쁜너를두고서  배가불렀지 어 배가불렀어  그렇게...</td>\n",
       "      <td>2</td>\n",
       "    </tr>\n",
       "    <tr>\n",
       "      <th>330</th>\n",
       "      <td>G-DRAGON</td>\n",
       "      <td>네가 바로 내 기쁨 어린 아이 된 기분 네 생각 안 하고 버티기 길어봐야 10분 지...</td>\n",
       "      <td>2</td>\n",
       "    </tr>\n",
       "    <tr>\n",
       "      <th>331</th>\n",
       "      <td>MC몽</td>\n",
       "      <td>느낌이 와 너와 통한다는 feel이 더 얘기해 도란도란 둘이 우린 똑 닮은 데칼코마...</td>\n",
       "      <td>2</td>\n",
       "    </tr>\n",
       "    <tr>\n",
       "      <th>332</th>\n",
       "      <td>리쌍</td>\n",
       "      <td>지나간 날은 모두 뒤로 다가올 날을 향해 Hi-Lo 준비된 손은 이제 위로 다가올 ...</td>\n",
       "      <td>2</td>\n",
       "    </tr>\n",
       "    <tr>\n",
       "      <th>333</th>\n",
       "      <td>배치기</td>\n",
       "      <td>작년 겨울 카페에 한 남자와 함께 있던 너 날 보자 당황하며 말을 잇지 못했지 다시...</td>\n",
       "      <td>2</td>\n",
       "    </tr>\n",
       "    <tr>\n",
       "      <th>334</th>\n",
       "      <td>레게 강 같은 평화</td>\n",
       "      <td>오늘밤엔 분명히 운명적인 만남이 시작 될 것 같은데 잠시만 어제 고민 다 접어 놓고...</td>\n",
       "      <td>2</td>\n",
       "    </tr>\n",
       "    <tr>\n",
       "      <th>335</th>\n",
       "      <td>Zion.T</td>\n",
       "      <td>그래 너 예쁜 거 알어 니 다리 예쁜 거 안다고 남자 많은 거 알어 그 표정이 말해...</td>\n",
       "      <td>2</td>\n",
       "    </tr>\n",
       "    <tr>\n",
       "      <th>336</th>\n",
       "      <td>인피니트H</td>\n",
       "      <td>넌 정말 예뻐 너만 보면 내 입꼬리는 헤퍼 내 삶에 helper 네 덕에 이제서야 ...</td>\n",
       "      <td>2</td>\n",
       "    </tr>\n",
       "    <tr>\n",
       "      <th>337</th>\n",
       "      <td>다이나믹 듀오/ 화요비</td>\n",
       "      <td>baby 더 이상 날 사랑하지마 다신 날 찾아오지마 니 여자가 되겠다던 나는 이제 ...</td>\n",
       "      <td>2</td>\n",
       "    </tr>\n",
       "    <tr>\n",
       "      <th>338</th>\n",
       "      <td>다이나믹 듀오</td>\n",
       "      <td>열 평 남짓한 방에 월세로 혼자 사는 그는 고달픈 직장 생활 때문에 눈 밑에는 짙은...</td>\n",
       "      <td>2</td>\n",
       "    </tr>\n",
       "    <tr>\n",
       "      <th>339</th>\n",
       "      <td>Lonely Hearts Club/ 빈지노 (Beenzino)</td>\n",
       "      <td>Yeah I don`t wanna be alone Yeah naver leave m...</td>\n",
       "      <td>2</td>\n",
       "    </tr>\n",
       "    <tr>\n",
       "      <th>340</th>\n",
       "      <td>MC몽</td>\n",
       "      <td>Rumor 퍼트린 놈들아 숨어 you don't know me like that l...</td>\n",
       "      <td>2</td>\n",
       "    </tr>\n",
       "    <tr>\n",
       "      <th>341</th>\n",
       "      <td>MASTA WU</td>\n",
       "      <td>내게 할 말 있음 이리 이리와봐 뭐든 들어줄게 이리 이리와봐 일단 알겠으니 이리 이...</td>\n",
       "      <td>2</td>\n",
       "    </tr>\n",
       "    <tr>\n",
       "      <th>342</th>\n",
       "      <td>다이나믹 듀오</td>\n",
       "      <td>뭔가 될 것 같은 friday night do it do it doin' it ri...</td>\n",
       "      <td>2</td>\n",
       "    </tr>\n",
       "    <tr>\n",
       "      <th>343</th>\n",
       "      <td>Tablo</td>\n",
       "      <td>I need an airbag 다가오는 거대한 슬픔에 부딪히기 전에 집에 가기 싫은...</td>\n",
       "      <td>2</td>\n",
       "    </tr>\n",
       "    <tr>\n",
       "      <th>344</th>\n",
       "      <td>거북이</td>\n",
       "      <td>가슴을 활짝 펴고 크게 웃어요 하늘 향해 힘껏 소리쳐 봐요 답답한 가슴이 확 풀어지...</td>\n",
       "      <td>2</td>\n",
       "    </tr>\n",
       "    <tr>\n",
       "      <th>345</th>\n",
       "      <td>DJ DOC</td>\n",
       "      <td>돈 싫어 명예 싫어 따분한 음악 우린 정말 싫어 펑키 비트의 신나는 댄스 노래하는 ...</td>\n",
       "      <td>2</td>\n",
       "    </tr>\n",
       "    <tr>\n",
       "      <th>346</th>\n",
       "      <td>리쌍</td>\n",
       "      <td>우리 지금 만나(만나) 당장 만나(당장 만나) 우리 지금 만나(만나) 당장 만나(당...</td>\n",
       "      <td>2</td>\n",
       "    </tr>\n",
       "    <tr>\n",
       "      <th>347</th>\n",
       "      <td>BIGBANG</td>\n",
       "      <td>yeah love is break it i know girl you know my ...</td>\n",
       "      <td>2</td>\n",
       "    </tr>\n",
       "    <tr>\n",
       "      <th>348</th>\n",
       "      <td>Dok2</td>\n",
       "      <td>그 어떤 비틀 줘도 난 니 일처럼 상관이 없지 추하게 뛰다 넘어질 바엔 난 차라리 ...</td>\n",
       "      <td>2</td>\n",
       "    </tr>\n",
       "    <tr>\n",
       "      <th>349</th>\n",
       "      <td>렉시</td>\n",
       "      <td>yo 세상에 남자는 많아 그러나 아무도 맘에 들지 않아 it's been a lon...</td>\n",
       "      <td>2</td>\n",
       "    </tr>\n",
       "    <tr>\n",
       "      <th>350</th>\n",
       "      <td>싸이 (PSY)</td>\n",
       "      <td>당신 너무나 이쁜 당신 항상 나 당신을 향해 행진 언제 거꾸로 신을지 몰라 고무신 ...</td>\n",
       "      <td>2</td>\n",
       "    </tr>\n",
       "    <tr>\n",
       "      <th>351</th>\n",
       "      <td>GRAY (그레이)</td>\n",
       "      <td>Saturday Saturday 오늘 밤도 그냥 지나치긴 싫어 앞이 안 보여 Get...</td>\n",
       "      <td>2</td>\n",
       "    </tr>\n",
       "    <tr>\n",
       "      <th>352</th>\n",
       "      <td>김성재</td>\n",
       "      <td>말 하자면 너를 사랑하고 있다는 말이야 하지만 나는 말할 수 없단 얘기야 하루가 또...</td>\n",
       "      <td>2</td>\n",
       "    </tr>\n",
       "    <tr>\n",
       "      <th>353</th>\n",
       "      <td>로꼬</td>\n",
       "      <td>난 아직도 네 눈을 못 봐 달라 항상 네가 보는 곳과 내가 위치한 자리 나는 올라 ...</td>\n",
       "      <td>2</td>\n",
       "    </tr>\n",
       "    <tr>\n",
       "      <th>354</th>\n",
       "      <td>배치기</td>\n",
       "      <td>배치기yo 더쎄게 불을 붙히지 out of control 다시 돌아온 뭉탁 보여줄께...</td>\n",
       "      <td>2</td>\n",
       "    </tr>\n",
       "    <tr>\n",
       "      <th>355</th>\n",
       "      <td>BILL STAX (빌스택스)</td>\n",
       "      <td>CODE NAME 187 CODE NAME 187 서울city 내 콜로세움 피튀어 ...</td>\n",
       "      <td>2</td>\n",
       "    </tr>\n",
       "  </tbody>\n",
       "</table>\n",
       "<p>356 rows × 3 columns</p>\n",
       "</div>"
      ],
      "text/plain": [
       "                                     가수  \\\n",
       "0                      HIGH4 (하이포)/ 아이유   \n",
       "1                                   아이유   \n",
       "2                                   아이유   \n",
       "3                                   박효신   \n",
       "4                              어쿠스틱 콜라보   \n",
       "5                          규현 (KYUHYUN)   \n",
       "6                              어쿠스틱 콜라보   \n",
       "7                                 엠씨더맥스   \n",
       "8                                 엠씨더맥스   \n",
       "9                                    정키   \n",
       "10                                  비스트   \n",
       "11                                  성시경   \n",
       "12                                엠씨더맥스   \n",
       "13        성시경/ 박효신/ 이석훈/ 서인국/ VIXX (빅스)   \n",
       "14                                엠씨더맥스   \n",
       "15                                  김동률   \n",
       "16                                  에일리   \n",
       "17                                   지아   \n",
       "18                                  성시경   \n",
       "19                                  김범수   \n",
       "20                        포스트맨(Postmen)   \n",
       "21                                엠씨더맥스   \n",
       "22                                  박효신   \n",
       "23                                   노을   \n",
       "24                                  박효신   \n",
       "25                                  김동률   \n",
       "26                                  정승환   \n",
       "27                                  윤종신   \n",
       "28                                  케이윌   \n",
       "29                                    린   \n",
       "..                                  ...   \n",
       "326                            G-DRAGON   \n",
       "327                         CHEEZE (치즈)   \n",
       "328                         CHEEZE (치즈)   \n",
       "329                        Supreme Team   \n",
       "330                            G-DRAGON   \n",
       "331                                 MC몽   \n",
       "332                                  리쌍   \n",
       "333                                 배치기   \n",
       "334                          레게 강 같은 평화   \n",
       "335                              Zion.T   \n",
       "336                               인피니트H   \n",
       "337                        다이나믹 듀오/ 화요비   \n",
       "338                             다이나믹 듀오   \n",
       "339  Lonely Hearts Club/ 빈지노 (Beenzino)   \n",
       "340                                 MC몽   \n",
       "341                            MASTA WU   \n",
       "342                             다이나믹 듀오   \n",
       "343                               Tablo   \n",
       "344                                 거북이   \n",
       "345                              DJ DOC   \n",
       "346                                  리쌍   \n",
       "347                             BIGBANG   \n",
       "348                                Dok2   \n",
       "349                                  렉시   \n",
       "350                            싸이 (PSY)   \n",
       "351                          GRAY (그레이)   \n",
       "352                                 김성재   \n",
       "353                                  로꼬   \n",
       "354                                 배치기   \n",
       "355                    BILL STAX (빌스택스)   \n",
       "\n",
       "                                                    가사  장르  \n",
       "0    길었던 겨우내 줄곧 품이 좀 남는 밤색 코트 그 속에 나를 쏙 감추고 걸음을 재촉해...   1  \n",
       "1    월요일엔 아마 바쁘지 않을까 화요일도 성급해 보이지 안 그래 수요일은 뭔가 어정쩡한...   1  \n",
       "2    너의 그 한 마디 말도 그 웃음도 나에겐 커다란 의미 너의 그 작은 눈빛도 쓸쓸한 ...   1  \n",
       "3    어느새 길어진 그림자를 따라서 땅거미 진 어둠 속을 그대와 걷고 있네요 손을 마주잡...   1  \n",
       "4    니 생각에 꽤 즐겁고 니 생각에 퍽 외로워 이상한 일이야 누굴 좋아한단 건 아무 일...   1  \n",
       "5    넌 어땠는지 아직 여름이 남아 왠지 난 조금 지쳤던 하루 광화문 가로수 은행잎 물들...   1  \n",
       "6    혼자 이별을 하고 가버리면 난 어떡하라고 너 없는 하루를 살아보고 너 없는 채로 잠...   1  \n",
       "7    마음이 알고 가 낯선 길인데도 니 숨결이 머문 자리는 너무 그립다 그립다 못해 아프...   1  \n",
       "8    행복을 줄 수 없었어 그런데 사랑을 했어 니곁에 감히 머무른 내 욕심을 용서치마 방...   1  \n",
       "9    아침에 눈을 떴을 때 텅 빈 방안에 나 홀로 니 빈자리 거닐면서 많은 생각들에 잠겨...   1  \n",
       "10   세상이 어두워지고 조용히 비가 내리면 여전히 그대로 오늘도 어김없이 난 벗어나질 못...   1  \n",
       "11   이윽고 내가 한눈에 너를 알아봤을 때 모든 건 분명 달라지고 있었어 내 세상은 널 ...   1  \n",
       "12   옅은 바람 냄새에 두 눈을 감아본다 낡은 가슴 여전한 떨림 그대가 그대가 온다 어렴...   1  \n",
       "13   오늘은 뭔가 좀 다른 기분 Feeling 이젠 때가 된 것 같은 느낌 Love U ...   1  \n",
       "14   이젠 내가 돌아서려 해 다신 그 사람과 네 앞에서 보이지 않게 이제 너에겐 어떤 바...   1  \n",
       "15   마치 어제 만난 것처럼 잘있었냔 인사가 무색할 만큼 괜한 우려였는지 서먹한 내가 되...   1  \n",
       "16   어떤 날에든 저녁 하늘은 못 올려보는 습관이 있어 온 세상이 날 떠나는듯한 이상한 ...   1  \n",
       "17   술 한잔 해요 날씨가 쌀쌀하니까 따끈따끈 국물에 소주 한잔 어때요 시간 없다면 내 ...   1  \n",
       "18   니가 없는 거리에는 내가 할일이 없어서 마냥 걷다 걷다보면 추억을 가끔 마주치지 떠...   1  \n",
       "19   내가 이렇게 아픈데 그댄 어떨까요 원래 떠나는 사람이 더 힘든 법인데 아무 말하지 ...   1  \n",
       "20   신촌을 못가 한번을 못가 혹시 너와 마주칠까 봐 널 보면 눈물이 터질까 봐 친구들 ...   1  \n",
       "21   왜 이리도 이 세상엔 이별이 많은지 왜 사랑이 힘든 건지 난 궁금했었죠 난 이제 또...   1  \n",
       "22   나의 기억 어딘가에 동그마니 숨어 있다 울컥 쏟아져 내려 오는 너 기나긴 하루 한번...   1  \n",
       "23   너무 보고 싶어서 가만히 너를 떠올려 보기도 했어 기억 속 네가 흐려진 만큼 잊혀진...   1  \n",
       "24   그대가 부네요 내 가슴 안에 그대라는 바람이 언제나 내게 그랬듯이 내 맘 흔들어 놓...   1  \n",
       "25   눈부신 햇살이 오늘도 나를 감싸며 살아있음을 그대에게 난 감사해요 부족한 내 마음이...   1  \n",
       "26   운동을 하고 열심히 일하고 주말엔 영화도 챙겨보곤 해 서점에 들러 책 속에 빠져서 ...   1  \n",
       "27   이제부터 웃음기 사라질거야 가파른 이 길을 좀 봐 그래 오르기 전에 미소를 기억해두...   1  \n",
       "28   입안에서 바람 맛이 달콤한 아침 새하얀 이불위로 닿는 햇살이 좋아 설레는 전화 벨소...   1  \n",
       "29   나만 원한다 했던 말도 지켜준다던 약속들도 아무렇지 않은 표정으로 버리고 있잖아 너...   1  \n",
       "..                                                 ...  ..  \n",
       "326  I’m just wild & young I’m just wild & young do...   2  \n",
       "327  그대가 날 바라 볼 때 살며시 미소 지을 땐 조금은 알 수 있는걸 시큰둥 투정 부리...   2  \n",
       "328  그대와 나를 이어주던 작은 이유를 모두 감춘 듯 Oh no 멀어져 가는 듯 해 아직...   2  \n",
       "329  배가불렀지 어 배가불렀어  그렇게 예쁜너를두고서  배가불렀지 어 배가불렀어  그렇게...   2  \n",
       "330  네가 바로 내 기쁨 어린 아이 된 기분 네 생각 안 하고 버티기 길어봐야 10분 지...   2  \n",
       "331  느낌이 와 너와 통한다는 feel이 더 얘기해 도란도란 둘이 우린 똑 닮은 데칼코마...   2  \n",
       "332  지나간 날은 모두 뒤로 다가올 날을 향해 Hi-Lo 준비된 손은 이제 위로 다가올 ...   2  \n",
       "333  작년 겨울 카페에 한 남자와 함께 있던 너 날 보자 당황하며 말을 잇지 못했지 다시...   2  \n",
       "334  오늘밤엔 분명히 운명적인 만남이 시작 될 것 같은데 잠시만 어제 고민 다 접어 놓고...   2  \n",
       "335  그래 너 예쁜 거 알어 니 다리 예쁜 거 안다고 남자 많은 거 알어 그 표정이 말해...   2  \n",
       "336  넌 정말 예뻐 너만 보면 내 입꼬리는 헤퍼 내 삶에 helper 네 덕에 이제서야 ...   2  \n",
       "337  baby 더 이상 날 사랑하지마 다신 날 찾아오지마 니 여자가 되겠다던 나는 이제 ...   2  \n",
       "338  열 평 남짓한 방에 월세로 혼자 사는 그는 고달픈 직장 생활 때문에 눈 밑에는 짙은...   2  \n",
       "339  Yeah I don`t wanna be alone Yeah naver leave m...   2  \n",
       "340  Rumor 퍼트린 놈들아 숨어 you don't know me like that l...   2  \n",
       "341  내게 할 말 있음 이리 이리와봐 뭐든 들어줄게 이리 이리와봐 일단 알겠으니 이리 이...   2  \n",
       "342  뭔가 될 것 같은 friday night do it do it doin' it ri...   2  \n",
       "343  I need an airbag 다가오는 거대한 슬픔에 부딪히기 전에 집에 가기 싫은...   2  \n",
       "344  가슴을 활짝 펴고 크게 웃어요 하늘 향해 힘껏 소리쳐 봐요 답답한 가슴이 확 풀어지...   2  \n",
       "345  돈 싫어 명예 싫어 따분한 음악 우린 정말 싫어 펑키 비트의 신나는 댄스 노래하는 ...   2  \n",
       "346  우리 지금 만나(만나) 당장 만나(당장 만나) 우리 지금 만나(만나) 당장 만나(당...   2  \n",
       "347  yeah love is break it i know girl you know my ...   2  \n",
       "348  그 어떤 비틀 줘도 난 니 일처럼 상관이 없지 추하게 뛰다 넘어질 바엔 난 차라리 ...   2  \n",
       "349  yo 세상에 남자는 많아 그러나 아무도 맘에 들지 않아 it's been a lon...   2  \n",
       "350  당신 너무나 이쁜 당신 항상 나 당신을 향해 행진 언제 거꾸로 신을지 몰라 고무신 ...   2  \n",
       "351  Saturday Saturday 오늘 밤도 그냥 지나치긴 싫어 앞이 안 보여 Get...   2  \n",
       "352  말 하자면 너를 사랑하고 있다는 말이야 하지만 나는 말할 수 없단 얘기야 하루가 또...   2  \n",
       "353  난 아직도 네 눈을 못 봐 달라 항상 네가 보는 곳과 내가 위치한 자리 나는 올라 ...   2  \n",
       "354  배치기yo 더쎄게 불을 붙히지 out of control 다시 돌아온 뭉탁 보여줄께...   2  \n",
       "355  CODE NAME 187 CODE NAME 187 서울city 내 콜로세움 피튀어 ...   2  \n",
       "\n",
       "[356 rows x 3 columns]"
      ]
     },
     "execution_count": 6,
     "metadata": {},
     "output_type": "execute_result"
    }
   ],
   "source": [
    "# 발라드와 힙합 csv를 병합\n",
    "test = pd.read_csv('test.csv',header=0, encoding='CP949',error_bad_lines=False)\n",
    "test = test.drop('Unnamed: 0',axis=1)\n",
    "test"
   ]
  },
  {
   "cell_type": "code",
   "execution_count": 7,
   "metadata": {
    "scrolled": false
   },
   "outputs": [
    {
     "data": {
      "text/plain": [
       "(143, 2)"
      ]
     },
     "execution_count": 7,
     "metadata": {},
     "output_type": "execute_result"
    }
   ],
   "source": [
    "test['가수'].nunique(), test['장르'].nunique()"
   ]
  },
  {
   "cell_type": "code",
   "execution_count": 8,
   "metadata": {
    "scrolled": true
   },
   "outputs": [
    {
     "data": {
      "image/png": "[encoded data removed]",
      "text/plain": [
       "<Figure size 432x288 with 1 Axes>"
      ]
     },
     "metadata": {
      "needs_background": "light"
     },
     "output_type": "display_data"
    }
   ],
   "source": [
    "test['장르'].value_counts().plot(kind='bar');\n",
    "# 일정하지 않은 label -> 정확도에 원인?"
   ]
  },
  {
   "cell_type": "code",
   "execution_count": 9,
   "metadata": {},
   "outputs": [
    {
     "data": {
      "text/plain": [
       "(356, 356)"
      ]
     },
     "execution_count": 9,
     "metadata": {},
     "output_type": "execute_result"
    }
   ],
   "source": [
    "X_data = test[' 가사']\n",
    "Y_data = test['장르']\n",
    "len(X_data), len(Y_data)\n",
    "# 데이터 수 356개 -> 너무 적긴하다"
   ]
  },
  {
   "cell_type": "code",
   "execution_count": 10,
   "metadata": {},
   "outputs": [],
   "source": [
    "train_data = test.drop(['장르'],axis=1)\n",
    "target_data = test[['장르']]"
   ]
  },
  {
   "cell_type": "code",
   "execution_count": 11,
   "metadata": {
    "scrolled": true
   },
   "outputs": [
    {
     "data": {
      "text/plain": [
       "[['겨우내',\n",
       "  '줄곧',\n",
       "  '품',\n",
       "  '좀',\n",
       "  '밤색',\n",
       "  '코트',\n",
       "  '그',\n",
       "  '속',\n",
       "  '쏙',\n",
       "  '걸음',\n",
       "  '재촉',\n",
       "  '사람',\n",
       "  '말',\n",
       "  '너',\n",
       "  '왜',\n",
       "  '제',\n",
       "  '봄',\n",
       "  '손',\n",
       "  '잡고',\n",
       "  '걸',\n",
       "  '사람',\n",
       "  '하나',\n",
       "  '봄바람',\n",
       "  '나',\n",
       "  '사랑',\n",
       "  '봄',\n",
       "  '노래',\n",
       "  '꽃잎',\n",
       "  '피어',\n",
       "  '눈',\n",
       "  '앞',\n",
       "  '살랑',\n",
       "  '거려',\n",
       "  '난',\n",
       "  '다른',\n",
       "  '얘기',\n",
       "  '한바탕',\n",
       "  '지나',\n",
       "  '봄',\n",
       "  '사랑',\n",
       "  '벚꽃',\n",
       "  '봄',\n",
       "  '사랑',\n",
       "  '벚꽃',\n",
       "  '봄',\n",
       "  '사랑',\n",
       "  '벚꽃',\n",
       "  '봄',\n",
       "  '사랑',\n",
       "  '벚꽃',\n",
       "  '손',\n",
       "  '말로',\n",
       "  '날',\n",
       "  '꿈틀',\n",
       "  '거리',\n",
       "  '맘',\n",
       "  '막상',\n",
       "  '뭐',\n",
       "  '별',\n",
       "  '거',\n",
       "  '손',\n",
       "  '잡고',\n",
       "  '걸',\n",
       "  '사람',\n",
       "  '하나',\n",
       "  '오',\n",
       "  '사랑',\n",
       "  '노래',\n",
       "  '나',\n",
       "  '사랑',\n",
       "  '봄',\n",
       "  '노래',\n",
       "  '꽃잎',\n",
       "  '피어',\n",
       "  '눈',\n",
       "  '앞',\n",
       "  '살랑',\n",
       "  '거려',\n",
       "  '난',\n",
       "  '다른',\n",
       "  '얘기',\n",
       "  '한바탕',\n",
       "  '지나',\n",
       "  '봄',\n",
       "  '사랑',\n",
       "  '벚꽃',\n",
       "  '남',\n",
       "  '절실',\n",
       "  '사랑',\n",
       "  '노래',\n",
       "  '가사',\n",
       "  '연',\n",
       "  '가운데',\n",
       "  '왜',\n",
       "  '나',\n",
       "  '혼자',\n",
       "  '거리',\n",
       "  '어제',\n",
       "  '옷차림',\n",
       "  '난',\n",
       "  '제',\n",
       "  '왜',\n",
       "  '세상',\n",
       "  '것',\n",
       "  '누군가',\n",
       "  '봄길',\n",
       "  '필욘',\n",
       "  '누구',\n",
       "  '한번',\n",
       "  '기억',\n",
       "  '벚꽃',\n",
       "  '잎',\n",
       "  '엔딩',\n",
       "  '봄',\n",
       "  '시작',\n",
       "  '듯',\n",
       "  '사실',\n",
       "  '요즘',\n",
       "  '옛날',\n",
       "  '생각',\n",
       "  '나',\n",
       "  '걷기',\n",
       "  '해도',\n",
       "  '다시',\n",
       "  '수',\n",
       "  '나',\n",
       "  '사랑',\n",
       "  '봄',\n",
       "  '노래',\n",
       "  '꽃잎',\n",
       "  '피어',\n",
       "  '눈',\n",
       "  '앞',\n",
       "  '살랑',\n",
       "  '거려',\n",
       "  '난',\n",
       "  '다른',\n",
       "  '얘기',\n",
       "  '한바탕',\n",
       "  '지나',\n",
       "  '봄',\n",
       "  '사랑',\n",
       "  '벚꽃',\n",
       "  '봄',\n",
       "  '사랑',\n",
       "  '벚꽃',\n",
       "  '봄',\n",
       "  '사랑',\n",
       "  '벚꽃',\n",
       "  '봄',\n",
       "  '사랑',\n",
       "  '벚꽃',\n",
       "  '봄',\n",
       "  '사랑',\n",
       "  '벚꽃']]"
      ]
     },
     "execution_count": 11,
     "metadata": {},
     "output_type": "execute_result"
    }
   ],
   "source": [
    "matrix=[]\n",
    "for lyrics in train_data[' 가사']:\n",
    "    lyric_X = []\n",
    "    lyric_X = okt.nouns(lyrics)\n",
    "    matrix.append(lyric_X)\n",
    "matrix[0:1]"
   ]
  },
  {
   "cell_type": "code",
   "execution_count": 12,
   "metadata": {
    "scrolled": true
   },
   "outputs": [
    {
     "data": {
      "text/plain": [
       "[[2474,\n",
       "  1743,\n",
       "  164,\n",
       "  39,\n",
       "  2475,\n",
       "  1387,\n",
       "  8,\n",
       "  31,\n",
       "  1744,\n",
       "  326,\n",
       "  1745,\n",
       "  19,\n",
       "  6,\n",
       "  2,\n",
       "  22,\n",
       "  545,\n",
       "  195,\n",
       "  46,\n",
       "  292,\n",
       "  32,\n",
       "  19,\n",
       "  29,\n",
       "  1388,\n",
       "  3,\n",
       "  4,\n",
       "  195,\n",
       "  54,\n",
       "  669,\n",
       "  313,\n",
       "  21,\n",
       "  60,\n",
       "  1389,\n",
       "  813,\n",
       "  5,\n",
       "  90,\n",
       "  100,\n",
       "  729,\n",
       "  314,\n",
       "  195,\n",
       "  4,\n",
       "  468,\n",
       "  195,\n",
       "  4,\n",
       "  468,\n",
       "  195,\n",
       "  4,\n",
       "  468,\n",
       "  195,\n",
       "  4,\n",
       "  468,\n",
       "  46,\n",
       "  434,\n",
       "  7,\n",
       "  2476,\n",
       "  130,\n",
       "  25,\n",
       "  814,\n",
       "  38,\n",
       "  215,\n",
       "  78,\n",
       "  46,\n",
       "  292,\n",
       "  32,\n",
       "  19,\n",
       "  29,\n",
       "  131,\n",
       "  4,\n",
       "  54,\n",
       "  3,\n",
       "  4,\n",
       "  195,\n",
       "  54,\n",
       "  669,\n",
       "  313,\n",
       "  21,\n",
       "  60,\n",
       "  1389,\n",
       "  813,\n",
       "  5,\n",
       "  90,\n",
       "  100,\n",
       "  729,\n",
       "  314,\n",
       "  195,\n",
       "  4,\n",
       "  468,\n",
       "  196,\n",
       "  891,\n",
       "  4,\n",
       "  54,\n",
       "  366,\n",
       "  892,\n",
       "  378,\n",
       "  22,\n",
       "  3,\n",
       "  51,\n",
       "  130,\n",
       "  180,\n",
       "  1390,\n",
       "  5,\n",
       "  545,\n",
       "  22,\n",
       "  41,\n",
       "  15,\n",
       "  216,\n",
       "  2477,\n",
       "  1746,\n",
       "  115,\n",
       "  127,\n",
       "  52,\n",
       "  468,\n",
       "  1391,\n",
       "  815,\n",
       "  195,\n",
       "  176,\n",
       "  82,\n",
       "  224,\n",
       "  204,\n",
       "  893,\n",
       "  43,\n",
       "  3,\n",
       "  2478,\n",
       "  102,\n",
       "  36,\n",
       "  18,\n",
       "  3,\n",
       "  4,\n",
       "  195,\n",
       "  54,\n",
       "  669,\n",
       "  313,\n",
       "  21,\n",
       "  60,\n",
       "  1389,\n",
       "  813,\n",
       "  5,\n",
       "  90,\n",
       "  100,\n",
       "  729,\n",
       "  314,\n",
       "  195,\n",
       "  4,\n",
       "  468,\n",
       "  195,\n",
       "  4,\n",
       "  468,\n",
       "  195,\n",
       "  4,\n",
       "  468,\n",
       "  195,\n",
       "  4,\n",
       "  468,\n",
       "  195,\n",
       "  4,\n",
       "  468]]"
      ]
     },
     "execution_count": 12,
     "metadata": {},
     "output_type": "execute_result"
    }
   ],
   "source": [
    "from tensorflow.keras.preprocessing.text import Tokenizer\n",
    "from tensorflow.keras.preprocessing.sequence import pad_sequences\n",
    "max_words = 35000\n",
    "tokenizer = Tokenizer(num_words=max_words)\n",
    "tokenizer.fit_on_texts(matrix)\n",
    "sequences = tokenizer.texts_to_sequences(matrix)\n",
    "sequences[0:1]"
   ]
  },
  {
   "cell_type": "code",
   "execution_count": 13,
   "metadata": {},
   "outputs": [
    {
     "name": "stdout",
     "output_type": "stream",
     "text": [
      "517\n",
      "142.6938202247191\n"
     ]
    }
   ],
   "source": [
    "X_data = sequences\n",
    "print(max(len(l) for l in X_data))\n",
    "print(sum(map(len,X_data))/len(X_data))\n",
    "# 가사의 최대 길이 : 517\n",
    "# 가사의 평균 길이 : 142.69"
   ]
  },
  {
   "cell_type": "code",
   "execution_count": 14,
   "metadata": {},
   "outputs": [
    {
     "data": {
      "text/plain": [
       "(356, 517)"
      ]
     },
     "execution_count": 14,
     "metadata": {},
     "output_type": "execute_result"
    }
   ],
   "source": [
    "max_len = 517\n",
    "# 전체 데이터 셋 길이를 517로 맞추기위해 패딩\n",
    "data = pad_sequences(X_data, maxlen=max_len)\n",
    "data.shape"
   ]
  },
  {
   "cell_type": "code",
   "execution_count": 26,
   "metadata": {},
   "outputs": [
    {
     "data": {
      "text/plain": [
       "array([[  0,   0,   0, ...,  46,   3, 586],\n",
       "       [  0,   0,   0, ..., 759,   2, 287],\n",
       "       [  0,   0,   0, ...,   6, 134,   6],\n",
       "       [  0,   0,   0, ..., 354,   2,  74],\n",
       "       [  0,   0,   0, ...,   1,  25,   3]])"
      ]
     },
     "execution_count": 26,
     "metadata": {},
     "output_type": "execute_result"
    }
   ],
   "source": [
    "x_train,x_test,y_train,y_test = train_test_split(data,target_data,test_size=0.2)\n",
    "x_test[0:5]\n",
    "# TRAIN_TEST_SPLIT"
   ]
  },
  {
   "cell_type": "code",
   "execution_count": 16,
   "metadata": {
    "scrolled": false
   },
   "outputs": [
    {
     "data": {
      "text/plain": [
       "array([[  0,   0,   0, ...,  49, 163,  22],\n",
       "       [  0,   0,   0, ...,  36, 161,  36],\n",
       "       [  0,   0,   0, ...,  18,   9,  64],\n",
       "       ...,\n",
       "       [  0,   0,   0, ...,   2,   3,  34],\n",
       "       [  0,   0,   0, ..., 509,   8,  71],\n",
       "       [  0,   0,   0, ...,  19,   7, 109]])"
      ]
     },
     "execution_count": 16,
     "metadata": {},
     "output_type": "execute_result"
    }
   ],
   "source": [
    "y_test = np.array(y_test)\n",
    "y_train = np.array(y_train)\n",
    "x_train = np.array(list(x for x in x_train))\n",
    "x_test = np.array(x_test)\n",
    "x_train\n",
    "# numpy로 안그러면 오류나더라.."
   ]
  },
  {
   "cell_type": "markdown",
   "metadata": {},
   "source": [
    "# Decision Tree"
   ]
  },
  {
   "cell_type": "code",
   "execution_count": 38,
   "metadata": {},
   "outputs": [
    {
     "name": "stdout",
     "output_type": "stream",
     "text": [
      "training set accuracy: 1.0\n",
      "test set accuracy: 0.7916666666666666\n"
     ]
    },
    {
     "data": {
      "text/plain": [
       "array([2, 2, 1, 2, 2, 1, 2, 2, 2, 2, 2, 2, 1, 2, 1, 1, 2, 1, 2, 1, 2, 2,\n",
       "       2, 1, 2, 2, 2, 1, 2, 2, 1, 2, 1, 2, 2, 1, 2, 1, 1, 2, 2, 2, 2, 1,\n",
       "       2, 1, 1, 1, 2, 2, 2, 1, 2, 1, 1, 1, 1, 2, 1, 2, 2, 2, 1, 2, 2, 1,\n",
       "       2, 1, 2, 2, 2, 1], dtype=int64)"
      ]
     },
     "execution_count": 38,
     "metadata": {},
     "output_type": "execute_result"
    }
   ],
   "source": [
    "from sklearn.tree import DecisionTreeClassifier\n",
    "tree = DecisionTreeClassifier()\n",
    "tree.fit(x_train,y_train)\n",
    "\n",
    "print('training set accuracy:',tree.score(x_train, y_train))\n",
    "print('test set accuracy:',tree.score(x_test,y_test))\n",
    "\n",
    "prediction_by_tree = tree.predict(x_test)\n",
    "prediction_by_forest\n",
    "# train set accuracy 가 1.0이 나오는 이유는?"
   ]
  },
  {
   "cell_type": "markdown",
   "metadata": {},
   "source": [
    "# RandomForestClassifier"
   ]
  },
  {
   "cell_type": "code",
   "execution_count": 28,
   "metadata": {
    "scrolled": true
   },
   "outputs": [
    {
     "name": "stdout",
     "output_type": "stream",
     "text": [
      "training set accuracy: 0.9929577464788732\n",
      "test set accuracy: 0.8611111111111112\n"
     ]
    },
    {
     "name": "stderr",
     "output_type": "stream",
     "text": [
      "C:\\Users\\zebra\\Anaconda3\\lib\\site-packages\\ipykernel_launcher.py:3: DataConversionWarning: A column-vector y was passed when a 1d array was expected. Please change the shape of y to (n_samples,), for example using ravel().\n",
      "  This is separate from the ipykernel package so we can avoid doing imports until\n"
     ]
    },
    {
     "data": {
      "text/plain": [
       "array([2, 2, 1, 2, 2, 1, 2, 2, 2, 2, 2, 2, 1, 2, 1, 1, 2, 1, 2, 1, 2, 2,\n",
       "       2, 1, 2, 2, 2, 1, 2, 2, 1, 2, 1, 2, 2, 1, 2, 1, 1, 2, 2, 2, 2, 1,\n",
       "       2, 1, 1, 1, 2, 2, 2, 1, 2, 1, 1, 1, 1, 2, 1, 2, 2, 2, 1, 2, 2, 1,\n",
       "       2, 1, 2, 2, 2, 1], dtype=int64)"
      ]
     },
     "execution_count": 28,
     "metadata": {},
     "output_type": "execute_result"
    }
   ],
   "source": [
    "from sklearn.ensemble import RandomForestClassifier\n",
    "forest = RandomForestClassifier(n_estimators=10)\n",
    "forest.fit(x_train,y_train)\n",
    "\n",
    "print('training set accuracy:',forest.score(x_train,y_train))\n",
    "print('test set accuracy:',forest.score(x_test,y_test))\n",
    "\n",
    "prediction_by_forest = forest.predict(x_test)\n",
    "prediction_by_forest"
   ]
  },
  {
   "cell_type": "markdown",
   "metadata": {},
   "source": [
    "# Deep Learning (RNN)"
   ]
  },
  {
   "cell_type": "markdown",
   "metadata": {},
   "source": [
    "from tensorflow.keras.layers import SimpleRNN,Embedding,Dense\n",
    "from tensorflow.keras.models import Sequential"
   ]
  },
  {
   "cell_type": "code",
   "execution_count": 30,
   "metadata": {},
   "outputs": [
    {
     "name": "stdout",
     "output_type": "stream",
     "text": [
      "Train on 227 samples, validate on 57 samples\n",
      "Epoch 1/2\n",
      "227/227 [==============================] - 1s 6ms/sample - loss: 0.5697 - acc: 0.2203 - val_loss: 0.3463 - val_acc: 0.1930\n",
      "Epoch 2/2\n",
      "227/227 [==============================] - 0s 2ms/sample - loss: 0.4098 - acc: 0.2996 - val_loss: 0.2001 - val_acc: 0.1930\n"
     ]
    }
   ],
   "source": [
    "word_to_index = tokenizer.word_index\n",
    "vocab_size = len(word_to_index)+1\n",
    "model = Sequential()\n",
    "model.add(Embedding(vocab_size,32)) # 임베딩 벡터의 차원 32\n",
    "model.add(SimpleRNN(32)) # hidden_size 32\n",
    "model.add(Dense(1, activation='sigmoid'))\n",
    "model.compile(optimizer='rmsprop',loss='binary_crossentropy',metrics=['acc'])\n",
    "history = model.fit(x_train,y_train,epochs=2,batch_size=64,validation_split=0.2)\n",
    "# 함수 = sigmoid, 손실함수 = binary_crossentropy, validation split = 0.2"
   ]
  },
  {
   "cell_type": "code",
   "execution_count": 31,
   "metadata": {},
   "outputs": [
    {
     "name": "stdout",
     "output_type": "stream",
     "text": [
      "72/72 [==============================] - 0s 706us/sample - loss: 0.2876 - acc: 0.4444\n"
     ]
    },
    {
     "data": {
      "text/plain": [
       "0.44444445"
      ]
     },
     "execution_count": 31,
     "metadata": {},
     "output_type": "execute_result"
    }
   ],
   "source": [
    "model.evaluate(x_test,y_test)[1]\n",
    "# 1의 의미가 뭘까"
   ]
  },
  {
   "cell_type": "code",
   "execution_count": 32,
   "metadata": {},
   "outputs": [
    {
     "data": {
      "image/png": "[encoded data removed]",
      "text/plain": [
       "<Figure size 432x288 with 1 Axes>"
      ]
     },
     "metadata": {
      "needs_background": "light"
     },
     "output_type": "display_data"
    }
   ],
   "source": [
    "epochs = range(1, len(history.history['acc']) + 1)\n",
    "plt.plot(epochs, history.history['loss'])\n",
    "plt.plot(epochs, history.history['val_loss'])\n",
    "plt.title('model loss')\n",
    "plt.ylabel('loss')\n",
    "plt.xlabel('epoch')\n",
    "plt.legend(['train', 'val'], loc='upper left')\n",
    "plt.show()\n",
    "# loss가 마이너스로 가는이유"
   ]
  },
  {
   "cell_type": "markdown",
   "metadata": {},
   "source": [
    "Accuracy가 0.4점대 수준으로 매우 낮다. 이유로는 일단,\n",
    "1. 데이터 수가 작다. (500개를 넘지 못함)\n",
    "2. 가사에는 영어로 된 부분이 있다 -> okt는 한국어 전용이기 때문에 영어 인식x\n",
    "3. 가사에 명사 이외에 중요한 부분이 있다. okt.nouns로 명사만 뽑았음.\n",
    "4. 일정하지 않은 label 값? 힙합이 훨씬 더 많았음\n",
    "5. 가사들에 토큰 수가 차이가 커서 패딩에서 정확도가 내려갔다.\n",
    "6. 가사만을 이용하였다..\n",
    "을 생각해보았다. 더 있을까? 정확도를 올려보자.. ㅠ"
   ]
  },
  {
   "cell_type": "code",
   "execution_count": null,
   "metadata": {},
   "outputs": [],
   "source": []
  }
 ],
 "metadata": {
  "kernelspec": {
   "display_name": "Python 3",
   "language": "python",
   "name": "python3"
  },
  "language_info": {
   "codemirror_mode": {
    "name": "ipython",
    "version": 3
   },
   "file_extension": ".py",
   "mimetype": "text/x-python",
   "name": "python",
   "nbconvert_exporter": "python",
   "pygments_lexer": "ipython3",
   "version": "3.7.3"
  }
 },
 "nbformat": 4,
 "nbformat_minor": 2
}
